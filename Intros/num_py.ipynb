{
 "cells": [
  {
   "cell_type": "markdown",
   "metadata": {},
   "source": [
    "### Numpy"
   ]
  },
  {
   "cell_type": "code",
   "execution_count": 35,
   "metadata": {},
   "outputs": [],
   "source": [
    "import numpy as np \n",
    "import matplotlib.pyplot as plt\n",
    "%matplotlib inline "
   ]
  },
  {
   "cell_type": "code",
   "execution_count": 13,
   "metadata": {},
   "outputs": [
    {
     "data": {
      "text/plain": [
       "41"
      ]
     },
     "execution_count": 13,
     "metadata": {},
     "output_type": "execute_result"
    }
   ],
   "source": [
    "a = np.array(range(1, 10))\n",
    "\n",
    "type(a)\n",
    "\n",
    "#shape\n",
    "a.shape\n",
    "\n",
    "#Numpy statistical Functions\n",
    "a.std()\n",
    "\n",
    "x = np.array([2, 7])\n",
    "y = np.array([3, 5])\n",
    "\n",
    "np.dot(x, y)"
   ]
  },
  {
   "cell_type": "code",
   "execution_count": 33,
   "metadata": {},
   "outputs": [
    {
     "data": {
      "text/plain": [
       "array([-2., -1.,  0.,  1.,  2.])"
      ]
     },
     "execution_count": 33,
     "metadata": {},
     "output_type": "execute_result"
    }
   ],
   "source": [
    "arr = np.array([9, 15, 24, 31, 48])\n",
    "\n",
    "type(arr)\n",
    "\n",
    "arr[3]\n",
    "\n",
    "#size\n",
    "arr.size\n",
    "\n",
    "#Dimension\n",
    "arr.ndim\n",
    "\n",
    "#Shape\n",
    "arr.shape\n",
    "\n",
    "u = np.array([1, 2])\n",
    "v = np.array([3, 4])\n",
    "\n",
    "# Add\n",
    "z = np.add(u, v)\n",
    "\n",
    "#Subtraction\n",
    "z = np.subtract(u, v)\n",
    "\n",
    "\n",
    "# Multiply\n",
    "z = np.multiply(u, v)\n",
    "\n",
    "# Division\n",
    "z = np.divide(v, u)\n",
    "\n",
    "# Dot Product\n",
    "z = np.dot(u, v)\n",
    "\n",
    "#Constant\n",
    "u = u + 5\n",
    "\n",
    "# Linspace\n",
    "\n",
    "np.linspace(-2, 2, 5)"
   ]
  },
  {
   "cell_type": "code",
   "execution_count": 36,
   "metadata": {},
   "outputs": [],
   "source": [
    "def Plotvec2(a,b):\n",
    "    ax = plt.axes()# to generate the full window axes\n",
    "    ax.arrow(0, 0, *a, head_width=0.05, color ='r', head_length=0.1)#Add an arrow to the  a Axes with arrow head width 0.05, color red and arrow head length 0.1\n",
    "    plt.text(*(a + 0.1), 'a')\n",
    "    ax.arrow(0, 0, *b, head_width=0.05, color ='b', head_length=0.1)#Add an arrow to the  b Axes with arrow head width 0.05, color blue and arrow head length 0.1\n",
    "    plt.text(*(b + 0.1), 'b')\n",
    "    plt.ylim(-2, 2)#set the ylim to bottom(-2), top(2)\n",
    "    plt.xlim(-2, 2)#set the xlim to left(-2), right(2)"
   ]
  },
  {
   "cell_type": "code",
   "execution_count": 37,
   "metadata": {},
   "outputs": [
    {
     "data": {
      "image/png": "[encoded data removed]",
      "text/plain": [
       "<Figure size 640x480 with 1 Axes>"
      ]
     },
     "metadata": {},
     "output_type": "display_data"
    }
   ],
   "source": [
    "a = np.array([1, 0])\n",
    "b = np.array([0, 1])\n",
    "Plotvec2(a, b)"
   ]
  },
  {
   "cell_type": "code",
   "execution_count": 60,
   "metadata": {},
   "outputs": [
    {
     "data": {
      "text/plain": [
       "(array([[ 1,  4],\n",
       "        [ 5, 12],\n",
       "        [ 9, 20]]),\n",
       " array([[ 1,  5,  9],\n",
       "        [ 4, 12, 20]]))"
      ]
     },
     "execution_count": 60,
     "metadata": {},
     "output_type": "execute_result"
    }
   ],
   "source": [
    "a = [[1, 2, 3, 4], [5, 6, 7, 8], [9, 10, 11, 12]]\n",
    "B = np.array([[0, 1], [1, 0], [1, 1], [-1, 0]])\n",
    "arr = np.array(a)\n",
    "\n",
    "#size\n",
    "arr.size\n",
    "\n",
    "#shape\n",
    "arr.shape\n",
    "\n",
    "#Dimension\n",
    "arr.ndim\n",
    "\n",
    "arr[0][0:2]\n",
    "\n",
    "z = np.dot(arr, B)\n",
    "\n",
    "c = z.transpose()\n",
    "\n",
    "z, c"
   ]
  },
  {
   "cell_type": "code",
   "execution_count": 66,
   "metadata": {},
   "outputs": [
    {
     "data": {
      "text/plain": [
       "array([[2, 2],\n",
       "       [2, 2]])"
      ]
     },
     "execution_count": 66,
     "metadata": {},
     "output_type": "execute_result"
    }
   ],
   "source": [
    "a=np.array([0,1])\n",
    "b=np.array([1,0])\n",
    "np.dot(a,b) \n",
    "\n",
    "X=np.array([[1,0,1],[2,2,2]]) \n",
    "out=X[0:2,2]\n",
    "out\n",
    "\n",
    "d=np.array([[1,0],[0,1]])\n",
    "e=np.array([[2,2],[2,2]])\n",
    "f=np.dot(d,e)\n",
    "\n",
    "f"
   ]
  }
 ],
 "metadata": {
  "kernelspec": {
   "display_name": "Python 3",
   "language": "python",
   "name": "python3"
  },
  "language_info": {
   "codemirror_mode": {
    "name": "ipython",
    "version": 3
   },
   "file_extension": ".py",
   "mimetype": "text/x-python",
   "name": "python",
   "nbconvert_exporter": "python",
   "pygments_lexer": "ipython3",
   "version": "3.12.0"
  }
 },
 "nbformat": 4,
 "nbformat_minor": 2
}
