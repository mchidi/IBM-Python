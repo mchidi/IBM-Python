{
 "cells": [
  {
   "cell_type": "markdown",
   "metadata": {},
   "source": []
  },
  {
   "cell_type": "markdown",
   "metadata": {},
   "source": [
    "### Class"
   ]
  },
  {
   "cell_type": "code",
   "execution_count": 20,
   "metadata": {},
   "outputs": [
    {
     "data": {
      "image/png": "[encoded data removed]",
      "text/plain": [
       "<Figure size 640x480 with 1 Axes>"
      ]
     },
     "metadata": {},
     "output_type": "display_data"
    }
   ],
   "source": [
    "from dataclasses import dataclass\n",
    "import matplotlib.pyplot as plt\n",
    "%matplotlib inline \n",
    "\n",
    "class Rectangle:\n",
    "  \n",
    "  def __init__(self, height, width) -> None:\n",
    "    self._height = height\n",
    "    self._width = width\n",
    "    \n",
    "  def getArea(self):\n",
    "    return self._height * self._width\n",
    "    \n",
    "recA = Rectangle(5, 9)\n",
    "\n",
    "recA.getArea()\n",
    "\n",
    "# Data Class\n",
    "@dataclass\n",
    "class InventoryItem:\n",
    "  name: str = \"\"\n",
    "  unit_price: float = 0.0\n",
    "  quantity: int = 0\n",
    "  \n",
    "  def total_cost(self):\n",
    "    return self.quantity * self.unit_price\n",
    "  \n",
    "  \n",
    "inv1 = InventoryItem(\"Bag\", 5.2, 9).total_cost()\n",
    "\n",
    "inv1\n",
    "\n",
    "class Circle():\n",
    "  \n",
    "  def __init__(self, radius=3, color='blue') -> None:\n",
    "    self.radius = radius\n",
    "    self.color = color\n",
    "    \n",
    "  def add_radius(self, r):\n",
    "    self.radius += r\n",
    "    return(self.radius)\n",
    "  \n",
    "  def draw(self):\n",
    "    plt.gca().add_patch(plt.Circle((0, 0), radius=self.radius, fc=self.color))\n",
    "    plt.axis('scaled')\n",
    "    plt.show()\n",
    "    \n",
    "\n",
    "circle_blue = Circle()\n",
    "circle_blue.draw()"
   ]
  },
  {
   "cell_type": "code",
   "execution_count": 21,
   "metadata": {},
   "outputs": [
    {
     "name": "stdout",
     "output_type": "stream",
     "text": [
      "2\n"
     ]
    }
   ],
   "source": [
    "a=1\n",
    "\n",
    "def do(x):\n",
    "    return(x+a)\n",
    "\n",
    "print(do(1))\n",
    "\n"
   ]
  }
 ],
 "metadata": {
  "kernelspec": {
   "display_name": "Python 3",
   "language": "python",
   "name": "python3"
  },
  "language_info": {
   "codemirror_mode": {
    "name": "ipython",
    "version": 3
   },
   "file_extension": ".py",
   "mimetype": "text/x-python",
   "name": "python",
   "nbconvert_exporter": "python",
   "pygments_lexer": "ipython3",
   "version": "3.12.0"
  }
 },
 "nbformat": 4,
 "nbformat_minor": 2
}
