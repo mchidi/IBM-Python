{
 "cells": [
  {
   "cell_type": "code",
   "execution_count": 82,
   "metadata": {},
   "outputs": [],
   "source": [
    "import os, shutil"
   ]
  },
  {
   "cell_type": "code",
   "execution_count": 83,
   "metadata": {},
   "outputs": [
    {
     "data": {
      "text/plain": [
       "'C:\\\\Users\\\\mbama\\\\Downloads'"
      ]
     },
     "execution_count": 83,
     "metadata": {},
     "output_type": "execute_result"
    }
   ],
   "source": [
    "path = r\"C:\\Users\\mbama\\Downloads\"\n",
    "\n",
    "path"
   ]
  },
  {
   "cell_type": "code",
   "execution_count": 84,
   "metadata": {},
   "outputs": [
    {
     "data": {
      "text/plain": [
       "['advanced-trendlines__1698882570',\n",
       " 'csv_files',\n",
       " 'desktop.ini',\n",
       " 'excel_files',\n",
       " 'exe_files',\n",
       " 'family1.PNG',\n",
       " 'family2.PNG',\n",
       " 'Fira_Code',\n",
       " 'Fira_Code.zip',\n",
       " 'FXCM-MT4Install.exe',\n",
       " 'Git-2.42.0.2-64-bit.exe',\n",
       " 'lrchannel__1698879280',\n",
       " 'lrchannel__1698879280.zip',\n",
       " 'Manufacturer sales data_Exam.xlsx',\n",
       " 'MicrosoftEdgeDropFiles',\n",
       " 'msi_files',\n",
       " 'mt5setup.exe',\n",
       " 'Multiple questions_Exam.xlsx',\n",
       " 'node-v20.9.0-x64.msi',\n",
       " 'P&L data.xlsx',\n",
       " 'P&L source data_Exam2.xlsx',\n",
       " 'pdf_files',\n",
       " 'png_files',\n",
       " 'project-files-football-transfers-analysis-in-excel',\n",
       " 'project-files-football-transfers-analysis-in-excel.zip',\n",
       " 'python-3.12.0-amd64.exe',\n",
       " 'softwares',\n",
       " 'SQL2022-SSEI-Expr.exe',\n",
       " 'SSMS-Setup-ENU.exe',\n",
       " 'Transaction data_Exam.xlsx',\n",
       " 'VSCodeUserSetup-x64-1.84.2.exe',\n",
       " 'zip_files']"
      ]
     },
     "execution_count": 84,
     "metadata": {},
     "output_type": "execute_result"
    }
   ],
   "source": [
    "# List files in the path\n",
    "list_of_files = os.listdir(path)\n",
    "list_of_files"
   ]
  },
  {
   "cell_type": "code",
   "execution_count": 85,
   "metadata": {},
   "outputs": [],
   "source": [
    "# Create FOLDER if the folder dose not exists \n",
    "# folder_names = [r\"\\csv_files\", r\"\\pdf_files\"] #, r\"\\excel_files\", r\"\\msi_files\", r\"\\exe_files\", r\"\\png_files\", r\"\\zip_files\"\n",
    " \n",
    "f_ext = {\n",
    "  \"csv\": [\"csv_files\", \".csv\"],\n",
    "  \"pdf\": [\"pdf_files\", \".pdf\"],\n",
    "  \"png\": [\"png_files\", \".png\"],\n",
    "  \"excel\": [\"excel_files\", \".xlsx\"],\n",
    "  \"msi\": [\"msi_files\", \".msi\"],\n",
    "  \"exe\": [\"exe_files\", \".exe\"],\n",
    "  \"zip\": [\"zip_files\", \".zip\"]\n",
    "}\n",
    "\n",
    "for k, v in f_ext.items():\n",
    "  if not os.path.exists(path + \"\\\\\" + v[0]):\n",
    "    os.mkdir(path + \"\\\\\" + v[0]) # make folder\n",
    "  "
   ]
  },
  {
   "cell_type": "code",
   "execution_count": 86,
   "metadata": {},
   "outputs": [],
   "source": [
    "for file in list_of_files:\n",
    "  if file.endswith(f_ext[\"pdf\"][1]) and not os.listdir(path + \"\\\\\" + f_ext[\"pdf\"][0]):\n",
    "    shutil.move(f\"{path}\\\\{file}\", f\"{path}\\\\{f_ext[\"pdf\"][0]}\\\\{file}\")\n",
    "    \n",
    "  elif file.endswith(f_ext[\"png\"][1]) and not os.listdir(path + \"\\\\\" + f_ext[\"png\"][0]):\n",
    "    shutil.move(f\"{path}\\\\{file}\", f\"{path}\\\\{f_ext[\"png\"][0]}\\\\{file}\")\n",
    "    \n",
    "  elif file.endswith(f_ext[\"csv\"][1]) and not os.listdir(path + \"\\\\\" + f_ext[\"csv\"][0]):\n",
    "    shutil.move(f\"{path}\\\\{file}\", f\"{path}\\\\{f_ext[\"csv\"][0]}\\\\{file}\")\n",
    "  \n",
    "  elif file.endswith(f_ext[\"excel\"][1]) and not os.listdir(path + \"\\\\\" + f_ext[\"excel\"][0]):\n",
    "    shutil.move(f\"{path}\\\\{file}\", f\"{path}\\\\{f_ext[\"excel\"][0]}\\\\{file}\")\n",
    "    \n",
    "  elif file.endswith(f_ext[\"msi\"][1]) and not os.listdir(path + \"\\\\\" + f_ext[\"msi\"][0]):\n",
    "    shutil.move(f\"{path}\\\\{file}\", f\"{path}\\\\{f_ext[\"msi\"][0]}\\\\{file}\")\n",
    "    \n",
    "  elif file.endswith(f_ext[\"exe\"][1]) and not os.listdir(path + \"\\\\\" + f_ext[\"exe\"][0]):\n",
    "    shutil.move(f\"{path}\\\\{file}\", f\"{path}\\\\{f_ext[\"exe\"][0]}\\\\{file}\")\n",
    "  \n",
    "  elif file.endswith(f_ext[\"zip\"][1]) and not os.listdir(path + \"\\\\\" + f_ext[\"zip\"][0]):\n",
    "    shutil.move(f\"{path}\\\\{file}\", f\"{path}\\\\{f_ext[\"zip\"][0]}\\\\{file}\")\n",
    "    \n",
    "    \n",
    "    # print(\"OK to move file\")\n",
    "    # print(\"Old: \", f\"{path}\\\\{file}\", \"New: \", f\"{path}\\\\{ f_ext[\"pdf\"][0]}\\\\{file}\")\n",
    "    \n",
    "# print(os.listdir(path + \"\\\\\" + f_ext[\"pdf\"][0]))\n"
   ]
  }
 ],
 "metadata": {
  "kernelspec": {
   "display_name": "Python 3",
   "language": "python",
   "name": "python3"
  },
  "language_info": {
   "codemirror_mode": {
    "name": "ipython",
    "version": 3
   },
   "file_extension": ".py",
   "mimetype": "text/x-python",
   "name": "python",
   "nbconvert_exporter": "python",
   "pygments_lexer": "ipython3",
   "version": "3.12.0"
  }
 },
 "nbformat": 4,
 "nbformat_minor": 2
}
