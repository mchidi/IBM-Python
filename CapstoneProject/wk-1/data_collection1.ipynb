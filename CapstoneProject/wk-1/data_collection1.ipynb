{
 "cells": [
  {
   "cell_type": "markdown",
   "metadata": {},
   "source": [
    "# Overview of HTTP\n",
    "\n",
    "When you, the **client**, use a web page your browser sends an **HTTP** request to the **server** where the page is hosted. The server tries to find the desired **resource** by default \"<code>index.html</code>\". If your request is successful, the server will send the object to the client in an **HTTP response**. This includes information like the type of the **resource**, the length of the **resource**, and other information.\n",
    "\n",
    "<p>\n",
    "The figure below represents the process. The circle on the left represents the client, the circle on the right represents the Web server. The table under the Web server represents a list of resources stored in the web server. In  this case an <code>HTML</code> file, <code>png</code> image, and <code>txt</code> file .\n",
    "</p>\n",
    "<p>\n",
    "The <b>HTTP</b> protocol allows you to send and receive information through the web including webpages, images, and other web resources. In this lab, we will provide an overview of the Requests library for interacting with the <code>HTTP</code> protocol. \n",
    "</p"
   ]
  },
  {
   "cell_type": "code",
   "execution_count": 2,
   "metadata": {},
   "outputs": [],
   "source": [
    "import requests\n",
    "import os \n",
    "from PIL import Image\n",
    "from IPython.display import IFrame"
   ]
  },
  {
   "cell_type": "code",
   "execution_count": 3,
   "metadata": {},
   "outputs": [
    {
     "data": {
      "text/plain": [
       "200"
      ]
     },
     "execution_count": 3,
     "metadata": {},
     "output_type": "execute_result"
    }
   ],
   "source": [
    "# GET method\n",
    "url = 'https://www.ibm.com/'\n",
    "r = requests.get(url)\n",
    "\n",
    "# status code\n",
    "r.status_code"
   ]
  },
  {
   "cell_type": "code",
   "execution_count": 5,
   "metadata": {},
   "outputs": [
    {
     "name": "stdout",
     "output_type": "stream",
     "text": [
      "{'User-Agent': 'python-requests/2.31.0', 'Accept-Encoding': 'gzip, deflate', 'Accept': '*/*', 'Connection': 'keep-alive', 'Cookie': '_abck=70E623593A9441AED6563B9F979FEF06~-1~YAAQI/YQAvIVrlmNAQAAxG0zkAvVBRynkk32dLEAtIntcJTCu/zzHkdunHaKev0haV/zWkZtOdiFYTcklQ6KLDdKUaRxxfLTqz3CI5DBCIPy/PCJzk2hayrdzQkoNAv4mtiN84dq0N2jzfYWM2smCwmbhKLX8XBBlYjOBJxzYWE+w1af/AtT1Ikdbnrsw/M2eA0a6fpu6L8aBHln9l0MCtZzwQu4gA1HPNIF5Hl6/U9d1v1rui85HJw/oo7PsvAPc2Qu5aZHNIGscoOopUYY2vBPQogqOCU3Brfm0UVtV40GhoB3aUOaHhGaksvJvDe7nyj4oyKQRPwqmk8M3LZT7K84zEiVEc2lB81DxQG4AyS9YhU3Bwk=~-1~-1~-1; bm_sz=01C492087A040C1B680B83311C806E8C~YAAQI/YQAvMVrlmNAQAAxG0zkBYJ2BLyS/mLrrLoFruxAVC/MxKG94k2D7JzCHE/IUy1qTZHICdqya6hQ/21yU7HVWt0WktUW3gJ0Dw7qlfZPBjCcBJRBd5PS6aLMlgAgfKGCkMkQ+dYo5i/jWxmMUNWNLTjMT+XOYajy4YHMohHlcA1TAeZt7kEntoqhW71ngxauXINQvSeSY/ULtrCO9BanNlHHm1A1b2bbJI1MG6vqv2T1K2L3bhu3BD0PHLEzS7q81+n1nzgVvv5yzXEhNctMCsQctKRZ7xZFqXJRFdnW/SHT0GDN2Bcccfm6L7AgxlvhTgsN23Dswn7Uic8wKffk0nqemWMo+2+1+P/594=~4536390~4343352'}\n"
     ]
    }
   ],
   "source": [
    "# Headers\n",
    "print(r.request.headers)"
   ]
  },
  {
   "cell_type": "code",
   "execution_count": 6,
   "metadata": {},
   "outputs": [
    {
     "data": {
      "text/plain": [
       "{'Content-Type': 'text/html;charset=utf-8', 'X-Dispatcher': 'prod-publish-1', 'X-Vhost': 'publish', 'X-Content-Type-Options': 'nosniff', 'Last-Modified': 'Fri, 09 Feb 2024 18:26:06 GMT', 'X-Frame-Options': 'SAMEORIGIN', 'CF-Cache-Status': 'DYNAMIC', 'Server': 'cloudflare', 'CF-RAY': '852e2b3819143695-LHR', 'Cache-Control': 'max-age=421', 'Expires': 'Fri, 09 Feb 2024 23:35:27 GMT', 'X-Akamai-Transformed': '9 13138 0 pmb=mTOE,2', 'Content-Encoding': 'gzip', 'Date': 'Fri, 09 Feb 2024 23:28:26 GMT', 'Content-Length': '13390', 'Connection': 'keep-alive', 'Vary': 'Accept-Encoding', 'Strict-Transport-Security': 'max-age=31536000', 'x-ibm-trace': 'www-dipatcher: dynamic rule'}"
      ]
     },
     "execution_count": 6,
     "metadata": {},
     "output_type": "execute_result"
    }
   ],
   "source": [
    "r.headers"
   ]
  },
  {
   "cell_type": "code",
   "execution_count": 8,
   "metadata": {},
   "outputs": [
    {
     "data": {
      "text/plain": [
       "('Fri, 09 Feb 2024 23:28:26 GMT', 'text/html;charset=utf-8')"
      ]
     },
     "execution_count": 8,
     "metadata": {},
     "output_type": "execute_result"
    }
   ],
   "source": [
    "header = r.headers\n",
    "\n",
    "header['date'] , header['Content-Type']"
   ]
  },
  {
   "cell_type": "code",
   "execution_count": 9,
   "metadata": {},
   "outputs": [
    {
     "data": {
      "text/plain": [
       "'\\n<!DOCTYPE HTML>\\n<html lang=\"en-uk\">\\n<head>\\n    \\n    \\n    \\n    \\n    <meta charset=\"UTF-8\"/>\\n    <met'"
      ]
     },
     "execution_count": 9,
     "metadata": {},
     "output_type": "execute_result"
    }
   ],
   "source": [
    "# Text\n",
    "r.text[:100]"
   ]
  },
  {
   "cell_type": "markdown",
   "metadata": {},
   "source": [
    "You can load other types of data for non-text requests, like images. Consider the URL of the following image:"
   ]
  },
  {
   "cell_type": "code",
   "execution_count": 10,
   "metadata": {},
   "outputs": [
    {
     "data": {
      "text/plain": [
       "200"
      ]
     },
     "execution_count": 10,
     "metadata": {},
     "output_type": "execute_result"
    }
   ],
   "source": [
    "# Use single quotation marks for defining string\n",
    "url_img='https://cf-courses-data.s3.us.cloud-object-storage.appdomain.cloud/IBMDeveloperSkillsNetwork-PY0101EN-SkillsNetwork/IDSNlogo.png'\n",
    "\n",
    "res_img = requests.get(url_img)\n",
    "\n",
    "res_img.status_code"
   ]
  },
  {
   "cell_type": "code",
   "execution_count": 11,
   "metadata": {},
   "outputs": [
    {
     "data": {
      "text/plain": [
       "{'Date': 'Fri, 09 Feb 2024 23:36:41 GMT', 'X-Clv-Request-Id': '52d56a1a-f333-46b7-8f0e-45dff2b27289', 'Server': 'Cleversafe', 'X-Clv-S3-Version': '2.5', 'Accept-Ranges': 'bytes', 'x-amz-request-id': '52d56a1a-f333-46b7-8f0e-45dff2b27289', 'ETag': '\"8bb44578fff8fdcc3d2972be9ece0164\"', 'Content-Type': 'image/png', 'Last-Modified': 'Wed, 16 Nov 2022 03:32:41 GMT', 'Content-Length': '78776'}"
      ]
     },
     "execution_count": 11,
     "metadata": {},
     "output_type": "execute_result"
    }
   ],
   "source": [
    "h = res_img.headers\n",
    "\n",
    "h"
   ]
  },
  {
   "cell_type": "code",
   "execution_count": 13,
   "metadata": {},
   "outputs": [
    {
     "data": {
      "text/plain": [
       "('Fri, 09 Feb 2024 23:36:41 GMT', 'image/png')"
      ]
     },
     "execution_count": 13,
     "metadata": {},
     "output_type": "execute_result"
    }
   ],
   "source": [
    "h['Date'], h['Content-Type']"
   ]
  },
  {
   "cell_type": "markdown",
   "metadata": {},
   "source": [
    "An image is a response object that contains the image as a bytes-like object. As a result, we must save it using a file object. First, we specify the file path and name"
   ]
  },
  {
   "cell_type": "code",
   "execution_count": 14,
   "metadata": {},
   "outputs": [],
   "source": [
    "path = os.path.join(os.getcwd(),'image.png')"
   ]
  },
  {
   "cell_type": "code",
   "execution_count": 15,
   "metadata": {},
   "outputs": [],
   "source": [
    "with open(path,'wb') as f:\n",
    "    f.write(r.content)"
   ]
  },
  {
   "cell_type": "code",
   "execution_count": 16,
   "metadata": {},
   "outputs": [
    {
     "ename": "UnidentifiedImageError",
     "evalue": "cannot identify image file 'c:\\\\Users\\\\mbama\\\\OneDrive\\\\Documents\\\\Data Analysis\\\\IBM Data Analysis\\\\Python\\\\CapstoneProject\\\\image.png'",
     "output_type": "error",
     "traceback": [
      "\u001b[1;31m---------------------------------------------------------------------------\u001b[0m",
      "\u001b[1;31mUnidentifiedImageError\u001b[0m                    Traceback (most recent call last)",
      "Cell \u001b[1;32mIn[16], line 1\u001b[0m\n\u001b[1;32m----> 1\u001b[0m \u001b[43mImage\u001b[49m\u001b[38;5;241;43m.\u001b[39;49m\u001b[43mopen\u001b[49m\u001b[43m(\u001b[49m\u001b[43mpath\u001b[49m\u001b[43m)\u001b[49m\n",
      "File \u001b[1;32mc:\\Users\\mbama\\AppData\\Local\\Programs\\Python\\Python312\\Lib\\site-packages\\PIL\\Image.py:3305\u001b[0m, in \u001b[0;36mopen\u001b[1;34m(fp, mode, formats)\u001b[0m\n\u001b[0;32m   3303\u001b[0m     warnings\u001b[38;5;241m.\u001b[39mwarn(message)\n\u001b[0;32m   3304\u001b[0m msg \u001b[38;5;241m=\u001b[39m \u001b[38;5;124m\"\u001b[39m\u001b[38;5;124mcannot identify image file \u001b[39m\u001b[38;5;132;01m%r\u001b[39;00m\u001b[38;5;124m\"\u001b[39m \u001b[38;5;241m%\u001b[39m (filename \u001b[38;5;28;01mif\u001b[39;00m filename \u001b[38;5;28;01melse\u001b[39;00m fp)\n\u001b[1;32m-> 3305\u001b[0m \u001b[38;5;28;01mraise\u001b[39;00m UnidentifiedImageError(msg)\n",
      "\u001b[1;31mUnidentifiedImageError\u001b[0m: cannot identify image file 'c:\\\\Users\\\\mbama\\\\OneDrive\\\\Documents\\\\Data Analysis\\\\IBM Data Analysis\\\\Python\\\\CapstoneProject\\\\image.png'"
     ]
    }
   ],
   "source": [
    "Image.open(path)"
   ]
  },
  {
   "cell_type": "markdown",
   "metadata": {},
   "source": [
    "## Question: Download a file "
   ]
  },
  {
   "cell_type": "markdown",
   "metadata": {},
   "source": [
    "\n",
    "Write the commands to download the txt file in the given link."
   ]
  },
  {
   "cell_type": "code",
   "execution_count": 17,
   "metadata": {},
   "outputs": [],
   "source": [
    "txt_url = 'https://cf-courses-data.s3.us.cloud-object-storage.appdomain.cloud/IBMDeveloperSkillsNetwork-PY0101EN-SkillsNetwork/labs/Module%205/data/Example1.txt'\n",
    "\n",
    "path = os.path.join(os.getcwd(), 'example.txt')\n",
    "res = requests.get(txt_url)\n",
    "\n",
    "with open(path, 'wb') as f:\n",
    "    f.write(res.content)"
   ]
  }
 ],
 "metadata": {
  "kernelspec": {
   "display_name": "Python 3",
   "language": "python",
   "name": "python3"
  },
  "language_info": {
   "codemirror_mode": {
    "name": "ipython",
    "version": 3
   },
   "file_extension": ".py",
   "mimetype": "text/x-python",
   "name": "python",
   "nbconvert_exporter": "python",
   "pygments_lexer": "ipython3",
   "version": "3.12.0"
  }
 },
 "nbformat": 4,
 "nbformat_minor": 2
}
